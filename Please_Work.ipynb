{
 "cells": [
  {
   "cell_type": "code",
   "execution_count": null,
   "id": "39ff31e3-23bf-425c-89bd-94f812373fe3",
   "metadata": {},
   "outputs": [],
   "source": []
  },
  {
   "cell_type": "markdown",
   "id": "b3d2abaa-1b2f-48e5-8553-b33c347fad0a",
   "metadata": {},
   "source": [
    "# Trig in Python Journal 1 Prompt 6"
   ]
  },
  {
   "cell_type": "code",
   "execution_count": null,
   "id": "7c976234-b0d5-4adf-942c-06fdd81e5bf7",
   "metadata": {},
   "outputs": [],
   "source": [
    "import math\n",
    "\n",
    "#return sin function \n",
    "def sin_function(x):\n",
    "    return math.sin(x)"
   ]
  },
  {
   "cell_type": "markdown",
   "id": "543b6ec7-a1e3-40e3-be87-b06117ce3468",
   "metadata": {},
   "source": [
    "# Function: sin_function(x)\n",
    "takes numeric input 'x' and returns sin'x' using math.sin()"
   ]
  },
  {
   "cell_type": "code",
   "execution_count": null,
   "id": "feeb8d98-b4fd-4f5f-b4d8-732900e32941",
   "metadata": {},
   "outputs": [],
   "source": [
    "#return cos function\n",
    "def cos_function(x):\n",
    "    return math.cos(x)"
   ]
  },
  {
   "cell_type": "markdown",
   "id": "2cc76499-793a-4715-aadd-1ec1686e59ae",
   "metadata": {},
   "source": [
    "# Function: cos_function(x)\n",
    "takes numeric input 'x' and returns cos'x' using math.cos()"
   ]
  },
  {
   "cell_type": "code",
   "execution_count": null,
   "id": "30757c3d-2dc6-452b-be30-af1d81f889b4",
   "metadata": {},
   "outputs": [],
   "source": [
    "import numpy as np \n",
    "#Generate 1000 values between 0 and 2 \n",
    "x_values = np.linspace(0, 2, 1000)\n",
    "\n",
    "#find sin(x) and cos(x) \n",
    "sin_values = [sin_function(x) for x in x_values]\n",
    "cos_values = [cos_function(x) for x in x_values]"
   ]
  },
  {
   "cell_type": "markdown",
   "id": "f638cad4-9b69-4d01-a935-fc9a1f22ec1e",
   "metadata": {},
   "source": [
    "# Values:\n",
    "generate 1000 values between 0 and 2 and find `sin(x)` and `cos(x)` for each value"
   ]
  },
  {
   "cell_type": "code",
   "execution_count": null,
   "id": "eed603e4-5883-4ace-984d-d7c2d38798a9",
   "metadata": {},
   "outputs": [],
   "source": [
    "#Print first 10 in columns \n",
    "print(\"Index\\t  x\\t\\t  sin(x)\\t\\t  cos(x)\")\n",
    "print(\"---------------------------------------------------\")\n",
    "for i in range(10):\n",
    "    print(f\"{i}\\t  {x_values[i]:.5f}\\t  {sin_values[i]:.5f}\\t\\t  {cos_values[i]:.5f}\")"
   ]
  }
 ],
 "metadata": {
  "kernelspec": {
   "display_name": "Python 3 (ipykernel)",
   "language": "python",
   "name": "python3"
  },
  "language_info": {
   "codemirror_mode": {
    "name": "ipython",
    "version": 3
   },
   "file_extension": ".py",
   "mimetype": "text/x-python",
   "name": "python",
   "nbconvert_exporter": "python",
   "pygments_lexer": "ipython3",
   "version": "3.13.2"
  }
 },
 "nbformat": 4,
 "nbformat_minor": 5
}
